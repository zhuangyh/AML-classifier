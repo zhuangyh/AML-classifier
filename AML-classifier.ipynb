{
 "cells": [
  {
   "cell_type": "code",
   "execution_count": 643,
   "metadata": {
    "collapsed": false
   },
   "outputs": [
    {
     "name": "stdout",
     "output_type": "stream",
     "text": [
      "Populating the interactive namespace from numpy and matplotlib\n"
     ]
    },
    {
     "name": "stderr",
     "output_type": "stream",
     "text": [
      "WARNING: pylab import has clobbered these variables: ['ylim', 'xlim', 'indices', 'legend', 'std', 'f', 'colors']\n",
      "`%matplotlib` prevents importing * from pylab and numpy\n"
     ]
    }
   ],
   "source": [
    "import pandas as pd\n",
    "import numpy as np\n",
    "from sklearn.cross_validation import train_test_split\n",
    "from sklearn.ensemble import RandomForestClassifier\n",
    "from sklearn.linear_model import LogisticRegression\n",
    "from sklearn.tree import export_graphviz\n",
    "from sklearn.svm import SVC, LinearSVC\n",
    "from sklearn import metrics\n",
    "from sklearn.metrics import accuracy_score\n",
    "from sklearn import preprocessing\n",
    "import matplotlib.pyplot as plt\n",
    "from ggplot import *\n",
    "%pylab inline\n"
   ]
  },
  {
   "cell_type": "code",
   "execution_count": 879,
   "metadata": {
    "collapsed": false
   },
   "outputs": [],
   "source": [
    "data = pd.read_table(\"down_data2.txt\", delim_whitespace=True)\n",
    "data1 = pd.read_table(\"down_data1.txt\", delim_whitespace=True)\n",
    "data2 = pd.read_table(\"down_data2.txt\", delim_whitespace=True)\n",
    "data3 = pd.read_table(\"down_data3.txt\", delim_whitespace=True)\n",
    "data4 = pd.read_table(\"down_data4.txt\", delim_whitespace=True)\n",
    "data5 = pd.read_table(\"down_data5.txt\", delim_whitespace=True)"
   ]
  },
  {
   "cell_type": "code",
   "execution_count": 880,
   "metadata": {
    "collapsed": false
   },
   "outputs": [
    {
     "name": "stdout",
     "output_type": "stream",
     "text": [
      "<class 'pandas.core.frame.DataFrame'>\n",
      "Int64Index: 86 entries, 1 to 86\n",
      "Columns: 282 entries, SampleNumber to Class\n",
      "dtypes: float64(280), int64(1), object(1)\n",
      "memory usage: 190.1+ KB\n"
     ]
    },
    {
     "data": {
      "text/html": [
       "<div>\n",
       "<table border=\"1\" class=\"dataframe\">\n",
       "  <thead>\n",
       "    <tr style=\"text-align: right;\">\n",
       "      <th></th>\n",
       "      <th>SampleNumber</th>\n",
       "      <th>X1.mean.Tube1</th>\n",
       "      <th>X1.sd.Tube1</th>\n",
       "      <th>X1.median.Tube1</th>\n",
       "      <th>X1.skew.Tube1</th>\n",
       "      <th>X1.kurtosis.Tube1</th>\n",
       "      <th>X2.mean.Tube1</th>\n",
       "      <th>X2.sd.Tube1</th>\n",
       "      <th>X2.median.Tube1</th>\n",
       "      <th>X2.skew.Tube1</th>\n",
       "      <th>...</th>\n",
       "      <th>X6.sd.Tube8</th>\n",
       "      <th>X6.median.Tube8</th>\n",
       "      <th>X6.skew.Tube8</th>\n",
       "      <th>X6.kurtosis.Tube8</th>\n",
       "      <th>X7.mean.Tube8</th>\n",
       "      <th>X7.sd.Tube8</th>\n",
       "      <th>X7.median.Tube8</th>\n",
       "      <th>X7.skew.Tube8</th>\n",
       "      <th>X7.kurtosis.Tube8</th>\n",
       "      <th>Class</th>\n",
       "    </tr>\n",
       "  </thead>\n",
       "  <tbody>\n",
       "    <tr>\n",
       "      <th>82</th>\n",
       "      <td>215</td>\n",
       "      <td>0.627111</td>\n",
       "      <td>0.252657</td>\n",
       "      <td>0.680352</td>\n",
       "      <td>-0.448712</td>\n",
       "      <td>-0.930378</td>\n",
       "      <td>0.011981</td>\n",
       "      <td>0.011700</td>\n",
       "      <td>0.011980</td>\n",
       "      <td>38.619819</td>\n",
       "      <td>...</td>\n",
       "      <td>0.016039</td>\n",
       "      <td>0.000249</td>\n",
       "      <td>29.209400</td>\n",
       "      <td>1206.859726</td>\n",
       "      <td>0.000243</td>\n",
       "      <td>0.001936</td>\n",
       "      <td>0.000075</td>\n",
       "      <td>72.750337</td>\n",
       "      <td>7205.194502</td>\n",
       "      <td>normal</td>\n",
       "    </tr>\n",
       "    <tr>\n",
       "      <th>83</th>\n",
       "      <td>319</td>\n",
       "      <td>0.733573</td>\n",
       "      <td>0.218293</td>\n",
       "      <td>0.776149</td>\n",
       "      <td>-1.030491</td>\n",
       "      <td>0.425159</td>\n",
       "      <td>0.019864</td>\n",
       "      <td>0.012844</td>\n",
       "      <td>0.019358</td>\n",
       "      <td>12.533894</td>\n",
       "      <td>...</td>\n",
       "      <td>0.009816</td>\n",
       "      <td>0.000538</td>\n",
       "      <td>46.264189</td>\n",
       "      <td>3005.352232</td>\n",
       "      <td>0.000330</td>\n",
       "      <td>0.001869</td>\n",
       "      <td>0.000100</td>\n",
       "      <td>37.646756</td>\n",
       "      <td>1988.010987</td>\n",
       "      <td>normal</td>\n",
       "    </tr>\n",
       "    <tr>\n",
       "      <th>84</th>\n",
       "      <td>248</td>\n",
       "      <td>0.735322</td>\n",
       "      <td>0.211322</td>\n",
       "      <td>0.774194</td>\n",
       "      <td>-1.062901</td>\n",
       "      <td>0.640311</td>\n",
       "      <td>0.017607</td>\n",
       "      <td>0.010530</td>\n",
       "      <td>0.017525</td>\n",
       "      <td>5.434869</td>\n",
       "      <td>...</td>\n",
       "      <td>0.007091</td>\n",
       "      <td>0.000102</td>\n",
       "      <td>38.788247</td>\n",
       "      <td>1930.712080</td>\n",
       "      <td>0.000209</td>\n",
       "      <td>0.001286</td>\n",
       "      <td>0.000086</td>\n",
       "      <td>31.474986</td>\n",
       "      <td>1320.691221</td>\n",
       "      <td>normal</td>\n",
       "    </tr>\n",
       "    <tr>\n",
       "      <th>85</th>\n",
       "      <td>359</td>\n",
       "      <td>0.534086</td>\n",
       "      <td>0.203849</td>\n",
       "      <td>0.537634</td>\n",
       "      <td>0.184977</td>\n",
       "      <td>-0.467032</td>\n",
       "      <td>0.020563</td>\n",
       "      <td>0.020606</td>\n",
       "      <td>0.018007</td>\n",
       "      <td>16.944201</td>\n",
       "      <td>...</td>\n",
       "      <td>0.016690</td>\n",
       "      <td>0.000137</td>\n",
       "      <td>37.305640</td>\n",
       "      <td>1691.244772</td>\n",
       "      <td>0.000418</td>\n",
       "      <td>0.010053</td>\n",
       "      <td>0.000084</td>\n",
       "      <td>73.727042</td>\n",
       "      <td>5914.720048</td>\n",
       "      <td>normal</td>\n",
       "    </tr>\n",
       "    <tr>\n",
       "      <th>86</th>\n",
       "      <td>163</td>\n",
       "      <td>0.388663</td>\n",
       "      <td>0.185972</td>\n",
       "      <td>0.336266</td>\n",
       "      <td>1.645651</td>\n",
       "      <td>2.509269</td>\n",
       "      <td>0.007574</td>\n",
       "      <td>0.033170</td>\n",
       "      <td>0.002336</td>\n",
       "      <td>19.990859</td>\n",
       "      <td>...</td>\n",
       "      <td>0.007233</td>\n",
       "      <td>0.000075</td>\n",
       "      <td>92.784703</td>\n",
       "      <td>8780.388216</td>\n",
       "      <td>0.000030</td>\n",
       "      <td>0.000333</td>\n",
       "      <td>0.000000</td>\n",
       "      <td>36.693156</td>\n",
       "      <td>1806.678303</td>\n",
       "      <td>normal</td>\n",
       "    </tr>\n",
       "  </tbody>\n",
       "</table>\n",
       "<p>5 rows × 282 columns</p>\n",
       "</div>"
      ],
      "text/plain": [
       "    SampleNumber  X1.mean.Tube1  X1.sd.Tube1  X1.median.Tube1  X1.skew.Tube1  \\\n",
       "82           215       0.627111     0.252657         0.680352      -0.448712   \n",
       "83           319       0.733573     0.218293         0.776149      -1.030491   \n",
       "84           248       0.735322     0.211322         0.774194      -1.062901   \n",
       "85           359       0.534086     0.203849         0.537634       0.184977   \n",
       "86           163       0.388663     0.185972         0.336266       1.645651   \n",
       "\n",
       "    X1.kurtosis.Tube1  X2.mean.Tube1  X2.sd.Tube1  X2.median.Tube1  \\\n",
       "82          -0.930378       0.011981     0.011700         0.011980   \n",
       "83           0.425159       0.019864     0.012844         0.019358   \n",
       "84           0.640311       0.017607     0.010530         0.017525   \n",
       "85          -0.467032       0.020563     0.020606         0.018007   \n",
       "86           2.509269       0.007574     0.033170         0.002336   \n",
       "\n",
       "    X2.skew.Tube1   ...    X6.sd.Tube8  X6.median.Tube8  X6.skew.Tube8  \\\n",
       "82      38.619819   ...       0.016039         0.000249      29.209400   \n",
       "83      12.533894   ...       0.009816         0.000538      46.264189   \n",
       "84       5.434869   ...       0.007091         0.000102      38.788247   \n",
       "85      16.944201   ...       0.016690         0.000137      37.305640   \n",
       "86      19.990859   ...       0.007233         0.000075      92.784703   \n",
       "\n",
       "    X6.kurtosis.Tube8  X7.mean.Tube8  X7.sd.Tube8  X7.median.Tube8  \\\n",
       "82        1206.859726       0.000243     0.001936         0.000075   \n",
       "83        3005.352232       0.000330     0.001869         0.000100   \n",
       "84        1930.712080       0.000209     0.001286         0.000086   \n",
       "85        1691.244772       0.000418     0.010053         0.000084   \n",
       "86        8780.388216       0.000030     0.000333         0.000000   \n",
       "\n",
       "    X7.skew.Tube8  X7.kurtosis.Tube8   Class  \n",
       "82      72.750337        7205.194502  normal  \n",
       "83      37.646756        1988.010987  normal  \n",
       "84      31.474986        1320.691221  normal  \n",
       "85      73.727042        5914.720048  normal  \n",
       "86      36.693156        1806.678303  normal  \n",
       "\n",
       "[5 rows x 282 columns]"
      ]
     },
     "execution_count": 880,
     "metadata": {},
     "output_type": "execute_result"
    }
   ],
   "source": [
    "data.info()\n",
    "data.tail()"
   ]
  },
  {
   "cell_type": "code",
   "execution_count": 881,
   "metadata": {
    "collapsed": false
   },
   "outputs": [],
   "source": [
    "data = data.drop(\"SampleNumber\", axis=1)\n",
    "X = data.drop(\"Class\", axis=1)\n",
    "Y = data[\"Class\"]\n",
    "Y = pd.get_dummies(Y).aml"
   ]
  },
  {
   "cell_type": "code",
   "execution_count": 878,
   "metadata": {
    "collapsed": false
   },
   "outputs": [],
   "source": [
    "#data = data.drop(\"SampleNumber\", axis=1)\n",
    "#X = data.drop(\"Label\", axis=1)\n",
    "#Y = data[\"Label\"]\n",
    "#Y = pd.get_dummies(Y).aml"
   ]
  },
  {
   "cell_type": "code",
   "execution_count": 846,
   "metadata": {
    "collapsed": false
   },
   "outputs": [],
   "source": [
    "# Split the dataset in two equal parts\n",
    "X_train, X_test, Y_train, Y_test = train_test_split(\n",
    "    X, Y, test_size=0.6, random_state=0)"
   ]
  },
  {
   "cell_type": "code",
   "execution_count": 847,
   "metadata": {
    "collapsed": false
   },
   "outputs": [
    {
     "data": {
      "text/plain": [
       "0.61538461538461542"
      ]
     },
     "execution_count": 847,
     "metadata": {},
     "output_type": "execute_result"
    }
   ],
   "source": [
    "# Logistic Regression\n",
    "\n",
    "logreg = LogisticRegression()\n",
    "logreg.fit(X_train, Y_train)\n",
    "Y_pred_log = logreg.predict(X_test)\n",
    "logreg_accur=accuracy_score(Y_test, Y_pred_log)\n",
    "logreg.score(X_train, Y_train)\n",
    "logreg_accur"
   ]
  },
  {
   "cell_type": "code",
   "execution_count": 848,
   "metadata": {
    "collapsed": false
   },
   "outputs": [
    {
     "data": {
      "text/plain": [
       "0.90384615384615385"
      ]
     },
     "execution_count": 848,
     "metadata": {},
     "output_type": "execute_result"
    }
   ],
   "source": [
    "##Support Vector Machines\n",
    "## Scaling data for SVM\n",
    "X_train_scaled = preprocessing.scale(X_train)\n",
    "X_test_scaled = preprocessing.scale(X_test)\n",
    "\n",
    "svc = SVC(probability=True)\n",
    "svc.fit(X_train_scaled, Y_train)\n",
    "Y_pred_svc = svc.predict(X_test_scaled)\n",
    "svc.score(X_train_scaled, Y_train)\n",
    "svc_accur = accuracy_score(Y_test, Y_pred_svc)\n",
    "svc_accur\n",
    "\n"
   ]
  },
  {
   "cell_type": "code",
   "execution_count": 849,
   "metadata": {
    "collapsed": false
   },
   "outputs": [
    {
     "data": {
      "text/plain": [
       "0.92307692307692313"
      ]
     },
     "execution_count": 849,
     "metadata": {},
     "output_type": "execute_result"
    }
   ],
   "source": [
    "# Random Forests\n",
    "random_forest = RandomForestClassifier(n_estimators=15, random_state=0)\n",
    "#random_forest = RandomForestClassifier(n_estimators=100, criterion='entropy', max_depth=10, max_features='sqrt', min_samples_split=5)\n",
    "random_forest.fit(X_train, Y_train)\n",
    "Y_pred_rf = random_forest.predict(X_test)\n",
    "random_forest.score(X_train, Y_train)\n",
    "rf_accur = accuracy_score(Y_test, Y_pred_rf)\n",
    "rf_accur"
   ]
  },
  {
   "cell_type": "code",
   "execution_count": 850,
   "metadata": {
    "collapsed": false
   },
   "outputs": [
    {
     "data": {
      "image/png": "[encoded data removed]",
      "text/plain": [
       "<matplotlib.figure.Figure at 0x12ef950f0>"
      ]
     },
     "metadata": {},
     "output_type": "display_data"
    },
    {
     "data": {
      "text/plain": [
       "<ggplot: (-9223372036537091938)>"
      ]
     },
     "execution_count": 850,
     "metadata": {},
     "output_type": "execute_result"
    }
   ],
   "source": [
    "# ROC plot\n",
    "preds = logreg.predict_proba(X_test_scaled)[:,1]\n",
    "fpr, tpr, thresholds = metrics.roc_curve(Y_test, preds)\n",
    "df = pd.DataFrame(dict(fpr=fpr, tpr=tpr))\n",
    "ggplot(df, aes(x='fpr', y='tpr'))+geom_line()+geom_abline(linetype='dashed')"
   ]
  },
  {
   "cell_type": "code",
   "execution_count": 882,
   "metadata": {
    "collapsed": false
   },
   "outputs": [
    {
     "data": {
      "text/plain": [
       "<matplotlib.legend.Legend at 0x12e773c50>"
      ]
     },
     "execution_count": 882,
     "metadata": {},
     "output_type": "execute_result"
    },
    {
     "data": {
      "image/png": "[encoded data removed]",
      "text/plain": [
       "<matplotlib.figure.Figure at 0x130e22630>"
      ]
     },
     "metadata": {},
     "output_type": "display_data"
    }
   ],
   "source": [
    "plt.figure(0).clf()\n",
    "\n",
    "preds = logreg.predict_proba(X_test)[:,1]\n",
    "fpr, tpr, _ = metrics.roc_curve(Y_test, preds)\n",
    "auc = metrics.roc_auc_score(Y_test, preds)\n",
    "df_lr = pd.DataFrame(dict(fpr=fpr, tpr=tpr))\n",
    "plt.plot(fpr,tpr,label=\"Logistic Regression, auc= %0.3f\" %(auc))\n",
    "\n",
    "preds = random_forest.predict_proba(X_test)[:,1]\n",
    "fpr, tpr, _ = metrics.roc_curve(Y_test, preds)\n",
    "auc = metrics.roc_auc_score(Y_test, preds)\n",
    "df_rf = pd.DataFrame(dict(fpr=fpr, tpr=tpr))\n",
    "plt.plot(fpr,tpr,label=\"Random Forest, auc= %0.3f\" %(auc))\n",
    "\n",
    "\n",
    "preds = svc.predict_proba(X_test_scaled)[:, 1]\n",
    "fpr, tpr, thresholds = metrics.roc_curve(Y_test, preds)\n",
    "auc = metrics.roc_auc_score(Y_test, preds)\n",
    "df_svc = pd.DataFrame(dict(fpr=fpr, tpr=tpr))\n",
    "plt.plot(fpr,tpr,label=\"SVM, auc= %0.3f\" %(auc))\n",
    "plt.ylabel('True Positive Rate')\n",
    "plt.xlabel('False Positive Rate')\n",
    "plt.legend(loc=0)"
   ]
  },
  {
   "cell_type": "code",
   "execution_count": 884,
   "metadata": {
    "collapsed": false
   },
   "outputs": [
    {
     "data": {
      "image/png": "[encoded data removed]",
      "text/plain": [
       "<matplotlib.figure.Figure at 0x130dfdd30>"
      ]
     },
     "metadata": {},
     "output_type": "display_data"
    }
   ],
   "source": [
    "accuracy =  [logreg_accur, rf_accur, svc_accur]\n",
    "objects = ('Logistic Regression', 'SVM', 'Random Forest' )\n",
    "y_pos = np.arange(len(objects))\n",
    "bar_width = 0.35\n",
    "plt.bar(y_pos, accuracy, align='center', alpha=0.5, color=['b', 'g', 'r'] )\n",
    "plt.xticks(y_pos, objects)\n",
    "plt.ylabel('Accuracy score') \n",
    "plt.show()"
   ]
  },
  {
   "cell_type": "code",
   "execution_count": 885,
   "metadata": {
    "collapsed": false
   },
   "outputs": [],
   "source": [
    "# accuracy function to collect accracy score from LR, SVM and RF\n",
    "def accurcy(data):\n",
    "    #prepared data for analysis\n",
    "    data = data.drop(\"SampleNumber\", axis=1)\n",
    "    X = data.drop(\"Class\", axis=1)\n",
    "    Y = data[\"Class\"]\n",
    "    Y = pd.get_dummies(Y).aml\n",
    "    # Split the dataset in two equal parts\n",
    "    X_train, X_test, Y_train, Y_test = train_test_split(\n",
    "    X, Y, test_size=0.6, random_state=0)\n",
    "    \n",
    "    #Logestic regression\n",
    "    logreg = LogisticRegression()\n",
    "    logreg.fit(X_train, Y_train)\n",
    "    Y_pred_log = logreg.predict(X_test)\n",
    "    logreg_accur=accuracy_score(Y_test, Y_pred_log)\n",
    "\n",
    "    ##Support Vector Machines\n",
    "    ## Scaling data for SVM\n",
    "    X_train_scaled = preprocessing.scale(X_train)\n",
    "    X_test_scaled = preprocessing.scale(X_test)\n",
    "    svc = SVC(probability=True)\n",
    "    svc.fit(X_train_scaled, Y_train)\n",
    "    Y_pred_svc = svc.predict(X_test_scaled)\n",
    "    svc_accur = accuracy_score(Y_test, Y_pred_svc)\n",
    "    \n",
    "    # Random Forests\n",
    "    random_forest = RandomForestClassifier(n_estimators=15, random_state=0)\n",
    "    #random_forest = RandomForestClassifier(n_estimators=100, criterion='entropy', max_depth=10, max_features='sqrt', min_samples_split=5)\n",
    "    random_forest.fit(X_train, Y_train)\n",
    "    Y_pred_rf = random_forest.predict(X_test)\n",
    "    random_forest.score(X_train, Y_train)\n",
    "    rf_accur = accuracy_score(Y_test, Y_pred_rf)\n",
    "    return [(logreg_accur, svc_accur, rf_accur)]"
   ]
  },
  {
   "cell_type": "code",
   "execution_count": 973,
   "metadata": {
    "collapsed": false
   },
   "outputs": [],
   "source": [
    "# method comparison with 5 random subsamplings \n",
    "methodcom = accurcy(data1) + accurcy(data2) + accurcy(data3) + accurcy(data4) + accurcy(data5)\n",
    "methodcom = pd.DataFrame(temp1,  columns =  [\"Logistic Regression\", \"SVM\", \"Random Forest\"])"
   ]
  },
  {
   "cell_type": "code",
   "execution_count": 1013,
   "metadata": {
    "collapsed": false
   },
   "outputs": [
    {
     "data": {
      "image/png": "[encoded data removed]",
      "text/plain": [
       "<matplotlib.figure.Figure at 0x1320eb898>"
      ]
     },
     "metadata": {},
     "output_type": "display_data"
    }
   ],
   "source": [
    "means = methodcom.mean()*100\n",
    "errors = methodcom.std()*100\n",
    "ax = means.plot(yerr=errors,  kind='bar', color=['b', 'g', 'r'], rot=75, error_kw=dict(ecolor='black', lw=2, capsize=10, capthick=2))\n",
    "ax.set_ylabel(\"Accurcy score (%)\", fontsize=16)\n",
    "ax.set_ylim(50,105)\n",
    "#plt.axhline(y=91, color='g', linestyle='--')\n",
    "for item in ([ax.title, ax.xaxis.label, ax.yaxis.label] +\n",
    "             ax.get_xticklabels() + ax.get_yticklabels()):\n",
    "    item.set_fontsize(16)\n",
    "\n",
    "rects = ax.patches\n",
    "# Now make some labels\n",
    "labels = round(means,1)\n",
    "for rect, label, error in zip(rects, labels, errors):\n",
    "    height = rect.get_height()\n",
    "    ax.text(rect.get_x() + rect.get_width()/2, height + 5, label, ha='center', va='bottom')"
   ]
  },
  {
   "cell_type": "code",
   "execution_count": 890,
   "metadata": {
    "collapsed": false
   },
   "outputs": [
    {
     "name": "stdout",
     "output_type": "stream",
     "text": [
      "Feature ranking:\n",
      "1. feature 131 (0.098990)\n",
      "2. feature 132 (0.094113)\n",
      "3. feature 250 (0.066667)\n",
      "4. feature 198 (0.059211)\n",
      "5. feature 242 (0.059211)\n",
      "6. feature 216 (0.059111)\n",
      "7. feature 217 (0.059111)\n",
      "8. feature 130 (0.059111)\n",
      "9. feature 252 (0.058454)\n",
      "10. feature 202 (0.052632)\n"
     ]
    },
    {
     "data": {
      "image/png": "[encoded data removed]",
      "text/plain": [
       "<matplotlib.figure.Figure at 0x12d725c18>"
      ]
     },
     "metadata": {},
     "output_type": "display_data"
    }
   ],
   "source": [
    "# Print Top10 feature ranking\n",
    "print(\"Feature ranking:\")\n",
    "for f in range(10):\n",
    "    print(\"%d. feature %d (%f)\" % (f + 1, indices[f], importances[indices[f]]))\n",
    "xrange=range\n",
    "    \n",
    "# Plot the feature importances of the forest\n",
    "plt.figure()\n",
    "plt.title(\"Feature importances\")\n",
    "plt.bar(range(X_train.shape[1]), importances[indices],\n",
    "        color=['r', 'r', 'b', 'b', 'b', 'b', 'b', 'b', \"b\"], align=\"center\")\n",
    "plt.xticks(range(X_train.shape[1]), feature_labels[indices], rotation=90)\n",
    "#plt.xticks(range(X_train.shape[1]), indices, rotation=90)\n",
    "plt.xlim([-1, 5.5])\n",
    "#plt.xlim([-1, 8.5])\n",
    "plt.show()"
   ]
  },
  {
   "cell_type": "code",
   "execution_count": 896,
   "metadata": {
    "collapsed": false
   },
   "outputs": [
    {
     "data": {
      "text/plain": [
       "Index(['X6.sd.Tube4', 'X6.median.Tube4', 'X2.mean.Tube8', 'X5.skew.Tube6',\n",
       "       'X7.median.Tube7'],\n",
       "      dtype='object')"
      ]
     },
     "execution_count": 896,
     "metadata": {},
     "output_type": "execute_result"
    }
   ],
   "source": [
    "xrange=range(5)\n",
    "topimportances = importances[indices][:5]\n",
    "topfeatures = feature_labels[indices][:5]  \n",
    "topfeatures"
   ]
  },
  {
   "cell_type": "code",
   "execution_count": 941,
   "metadata": {
    "collapsed": true
   },
   "outputs": [],
   "source": [
    "topfeatures = ['CD16.SD', 'CD16.median', 'SSC.mean', 'CD45.skew',\n",
    "       'CD10.median']"
   ]
  },
  {
   "cell_type": "code",
   "execution_count": 947,
   "metadata": {
    "collapsed": false
   },
   "outputs": [
    {
     "data": {
      "image/png": "[encoded data removed]",
      "text/plain": [
       "<matplotlib.figure.Figure at 0x131988d30>"
      ]
     },
     "metadata": {},
     "output_type": "display_data"
    }
   ],
   "source": [
    "# Top 5 important features\n",
    "matplotlib.rcParams.update({'font.size': 16})\n",
    "plt.figure()\n",
    "plt.title(\"Feature importances\")\n",
    "plt.bar(xrange, topimportances,\n",
    "        color=['r', 'r', 'b', 'b', 'b'], align=\"center\")\n",
    "plt.xticks(xrange, topfeatures, rotation=60)\n",
    "plt.ylabel('Importance') \n",
    "plt.show()"
   ]
  },
  {
   "cell_type": "code",
   "execution_count": null,
   "metadata": {
    "collapsed": true
   },
   "outputs": [],
   "source": [
    "# Plot the feature importances of the forest\n",
    "plt.figure()\n",
    "plt.title(\"Feature importances\")\n",
    "plt.bar(range(X_train.shape[1]), importances[indices],\n",
    "        color=['r', 'r', 'b', 'b', 'b', 'b', 'b', 'b', \"b\"], align=\"center\")\n",
    "plt.xticks(range(X_train.shape[1]), feature_labels[indices], rotation=90)\n",
    "#plt.xticks(range(X_train.shape[1]), indices, rotation=90)\n",
    "plt.xlim([-1, 5.5])\n",
    "#plt.xlim([-1, 8.5])\n",
    "plt.show()"
   ]
  },
  {
   "cell_type": "code",
   "execution_count": 833,
   "metadata": {
    "collapsed": false
   },
   "outputs": [],
   "source": [
    "X_train_testA = X_train_scaled[ :, 0:35]\n",
    "X_train_testB = X_train_scaled[ :, 35:70]\n",
    "X_train_testC = X_train_scaled[ :, 70:105]\n",
    "X_train_testD = X_train_scaled[ :, 105:140]\n",
    "X_train_testE = X_train_scaled[ :, 140:175]\n",
    "X_train_testF = X_train_scaled[ :, 175:210]\n",
    "X_train_testG = X_train_scaled[ :, 210:245]\n",
    "X_train_testH = X_train_scaled[ :, 245:]\n",
    "\n",
    "X_train_CD16 = X_train_scaled[ :, 131:135]\n",
    "X_train_CD34 = X_train_scaled[ :, 200:205]"
   ]
  },
  {
   "cell_type": "code",
   "execution_count": 834,
   "metadata": {
    "collapsed": false
   },
   "outputs": [],
   "source": [
    "X_test_testA = X_test_scaled[ :, 0:35]\n",
    "X_test_testB = X_test_scaled[ :, 35:70]\n",
    "X_test_testC = X_test_scaled[ :, 70:105]\n",
    "X_test_testD = X_test_scaled[ :, 105:140]\n",
    "X_test_testE = X_test_scaled[ :, 140:175]\n",
    "X_test_testF = X_test_scaled[ :, 175:210]\n",
    "X_test_testG = X_test_scaled[ :, 210:245]\n",
    "X_test_testH = X_test_scaled[ :, 245:]\n",
    "\n",
    "X_test_CD16 = X_test_scaled[ :, 131:135]\n",
    "X_test_CD34 = X_test_scaled[ :, 200:205]"
   ]
  },
  {
   "cell_type": "code",
   "execution_count": 835,
   "metadata": {
    "collapsed": false
   },
   "outputs": [
    {
     "data": {
      "text/plain": [
       "0.94230769230769229"
      ]
     },
     "execution_count": 835,
     "metadata": {},
     "output_type": "execute_result"
    }
   ],
   "source": [
    "# Random Forests with test D\n",
    "random_forest_testD = RandomForestClassifier(n_estimators=15, random_state=0)\n",
    "#random_forest = RandomForestClassifier(n_estimators=100, criterion='entropy', max_depth=10, max_features='sqrt', min_samples_split=5)\n",
    "random_forest.fit(X_train_testD, Y_train)\n",
    "Y_pred_rf_testD = random_forest.predict(X_test_testD)\n",
    "random_forest.score(X_train_testD, Y_train)\n",
    "rf_accur_testD = accuracy_score(Y_test, Y_pred_rf_testD)\n",
    "rf_accur_testD"
   ]
  },
  {
   "cell_type": "code",
   "execution_count": 836,
   "metadata": {
    "collapsed": false
   },
   "outputs": [
    {
     "data": {
      "text/plain": [
       "0.80769230769230771"
      ]
     },
     "execution_count": 836,
     "metadata": {},
     "output_type": "execute_result"
    }
   ],
   "source": [
    "# Random Forests with CD16 features\n",
    "random_forest_CD16 = RandomForestClassifier(n_estimators=15, random_state=0)\n",
    "#random_forest = RandomForestClassifier(n_estimators=100, criterion='entropy', max_depth=10, max_features='sqrt', min_samples_split=5)\n",
    "random_forest.fit(X_train_CD16, Y_train)\n",
    "Y_pred_rf_CD16 = random_forest.predict(X_test_CD16)\n",
    "random_forest.score(X_train_CD16, Y_train)\n",
    "rf_accur_CD16 = accuracy_score(Y_test, Y_pred_rf_CD16)\n",
    "rf_accur_CD16"
   ]
  },
  {
   "cell_type": "code",
   "execution_count": 837,
   "metadata": {
    "collapsed": false
   },
   "outputs": [
    {
     "data": {
      "text/plain": [
       "0.82692307692307687"
      ]
     },
     "execution_count": 837,
     "metadata": {},
     "output_type": "execute_result"
    }
   ],
   "source": [
    "# Random Forests with CD34 features\n",
    "random_forest_CD34 = RandomForestClassifier(n_estimators=15, random_state=0)\n",
    "#random_forest = RandomForestClassifier(n_estimators=100, criterion='entropy', max_depth=10, max_features='sqrt', min_samples_split=5)\n",
    "random_forest.fit(X_train_CD34, Y_train)\n",
    "Y_pred_rf_CD34 = random_forest.predict(X_test_CD34)\n",
    "random_forest.score(X_train_CD34, Y_train)\n",
    "rf_accur_CD34 = accuracy_score(Y_test, Y_pred_rf_CD34)\n",
    "rf_accur_CD34"
   ]
  },
  {
   "cell_type": "code",
   "execution_count": 960,
   "metadata": {
    "collapsed": false
   },
   "outputs": [
    {
     "data": {
      "text/plain": [
       "array([[23,  2],\n",
       "       [ 1, 26]])"
      ]
     },
     "execution_count": 960,
     "metadata": {},
     "output_type": "execute_result"
    }
   ],
   "source": [
    "from sklearn.metrics import confusion_matrix\n",
    "confusion_matrix(Y_test, Y_pred_rf_testD)"
   ]
  },
  {
   "cell_type": "code",
   "execution_count": 962,
   "metadata": {
    "collapsed": false
   },
   "outputs": [
    {
     "data": {
      "text/plain": [
       "0.9285714285714286"
      ]
     },
     "execution_count": 962,
     "metadata": {},
     "output_type": "execute_result"
    }
   ],
   "source": [
    "26/28"
   ]
  },
  {
   "cell_type": "code",
   "execution_count": 503,
   "metadata": {
    "collapsed": false
   },
   "outputs": [
    {
     "data": {
      "text/plain": [
       "0.78846153846153844"
      ]
     },
     "execution_count": 503,
     "metadata": {},
     "output_type": "execute_result"
    }
   ],
   "source": [
    "#SVM with test A results\n",
    "svc_testA = SVC(probability=True)\n",
    "svc_testA.fit(X_train_testA, Y_train)\n",
    "svc_testA.score(X_train_testA, Y_train)\n",
    "Y_pred_svc_testA = svc_testA.predict(X_test_testA)\n",
    "svc_testA.score(X_train_testA, Y_train)\n",
    "svc_testA_accur = accuracy_score(Y_test, Y_pred_svc_testA)\n",
    "svc_testA_accur"
   ]
  },
  {
   "cell_type": "code",
   "execution_count": 504,
   "metadata": {
    "collapsed": false
   },
   "outputs": [
    {
     "data": {
      "text/plain": [
       "0.88461538461538458"
      ]
     },
     "execution_count": 504,
     "metadata": {},
     "output_type": "execute_result"
    }
   ],
   "source": [
    "#SVM with test B results\n",
    "svc_testB = SVC(probability=True)\n",
    "svc_testB.fit(X_train_testB, Y_train)\n",
    "svc_testB.score(X_train_testB, Y_train)\n",
    "Y_pred_svc_testB = svc_testB.predict(X_test_testB)\n",
    "svc_testB.score(X_train_testB, Y_train)\n",
    "svc_testB_accur = accuracy_score(Y_test, Y_pred_svc_testB)\n",
    "svc_testB_accur"
   ]
  },
  {
   "cell_type": "code",
   "execution_count": 505,
   "metadata": {
    "collapsed": false
   },
   "outputs": [
    {
     "data": {
      "text/plain": [
       "0.86538461538461542"
      ]
     },
     "execution_count": 505,
     "metadata": {},
     "output_type": "execute_result"
    }
   ],
   "source": [
    "#SVM with test C results\n",
    "svc_testC = SVC(probability=True)\n",
    "svc_testC.fit(X_train_testC, Y_train)\n",
    "svc_testC.score(X_train_testC, Y_train)\n",
    "Y_pred_svc_testC = svc_testC.predict(X_test_testC)\n",
    "svc_testC.score(X_train_testC, Y_train)\n",
    "svc_testC_accur = accuracy_score(Y_test, Y_pred_svc_testC)\n",
    "svc_testC_accur"
   ]
  },
  {
   "cell_type": "code",
   "execution_count": 506,
   "metadata": {
    "collapsed": false
   },
   "outputs": [
    {
     "data": {
      "text/plain": [
       "0.94230769230769229"
      ]
     },
     "execution_count": 506,
     "metadata": {},
     "output_type": "execute_result"
    }
   ],
   "source": [
    "#SVM with test D results\n",
    "svc_testD = SVC( probability=True)\n",
    "svc_testD.fit(X_train_testD, Y_train)\n",
    "svc_testD.score(X_train_testD, Y_train)\n",
    "Y_pred_svc_testD = svc_testD.predict(X_test_testD)\n",
    "svc_testD.score(X_train_testD, Y_train)\n",
    "svc_testD_accur = accuracy_score(Y_test, Y_pred_svc_testD)\n",
    "svc_testD_accur"
   ]
  },
  {
   "cell_type": "code",
   "execution_count": 507,
   "metadata": {
    "collapsed": false
   },
   "outputs": [
    {
     "data": {
      "text/plain": [
       "0.90384615384615385"
      ]
     },
     "execution_count": 507,
     "metadata": {},
     "output_type": "execute_result"
    }
   ],
   "source": [
    "#SVM with test E results\n",
    "svc_testE = SVC( probability=True)\n",
    "svc_testE.fit(X_train_testE, Y_train)\n",
    "svc_testE.score(X_train_testE, Y_train)\n",
    "Y_pred_svc_testE = svc_testE.predict(X_test_testE)\n",
    "svc_testE.score(X_train_testE, Y_train)\n",
    "svc_testE_accur = accuracy_score(Y_test, Y_pred_svc_testE)\n",
    "svc_testE_accur"
   ]
  },
  {
   "cell_type": "code",
   "execution_count": 508,
   "metadata": {
    "collapsed": false
   },
   "outputs": [
    {
     "data": {
      "text/plain": [
       "0.88461538461538458"
      ]
     },
     "execution_count": 508,
     "metadata": {},
     "output_type": "execute_result"
    }
   ],
   "source": [
    "#SVM with test F results\n",
    "svc_testF = SVC( probability=True)\n",
    "svc_testF.fit(X_train_testF, Y_train)\n",
    "svc_testF.score(X_train_testF, Y_train)\n",
    "Y_pred_svc_testF = svc_testF.predict(X_test_testF)\n",
    "svc_testF.score(X_train_testF, Y_train)\n",
    "svc_testF_accur = accuracy_score(Y_test, Y_pred_svc_testF)\n",
    "svc_testF_accur"
   ]
  },
  {
   "cell_type": "code",
   "execution_count": 509,
   "metadata": {
    "collapsed": false
   },
   "outputs": [
    {
     "data": {
      "text/plain": [
       "0.82692307692307687"
      ]
     },
     "execution_count": 509,
     "metadata": {},
     "output_type": "execute_result"
    }
   ],
   "source": [
    "#SVM with test G results\n",
    "svc_testG = SVC(probability=True)\n",
    "svc_testG.fit(X_train_testG, Y_train)\n",
    "svc_testG.score(X_train_testG, Y_train)\n",
    "Y_pred_svc_testG = svc_testG.predict(X_test_testG)\n",
    "svc_testG.score(X_train_testG, Y_train)\n",
    "svc_testG_accur = accuracy_score(Y_test, Y_pred_svc_testG)\n",
    "svc_testG_accur"
   ]
  },
  {
   "cell_type": "code",
   "execution_count": 510,
   "metadata": {
    "collapsed": false
   },
   "outputs": [
    {
     "data": {
      "text/plain": [
       "0.88461538461538458"
      ]
     },
     "execution_count": 510,
     "metadata": {},
     "output_type": "execute_result"
    }
   ],
   "source": [
    "#SVM with test H results\n",
    "svc_testH = SVC(probability=True)\n",
    "svc_testH.fit(X_train_testH, Y_train)\n",
    "svc_testH.score(X_train_testH, Y_train)\n",
    "Y_pred_svc_testH = svc_testH.predict(X_test_testH)\n",
    "svc_testH.score(X_train_testH, Y_train)\n",
    "svc_testH_accur = accuracy_score(Y_test, Y_pred_svc_testH)\n",
    "svc_testH_accur"
   ]
  },
  {
   "cell_type": "code",
   "execution_count": 520,
   "metadata": {
    "collapsed": false
   },
   "outputs": [
    {
     "data": {
      "image/png": "[encoded data removed]",
      "text/plain": [
       "<matplotlib.figure.Figure at 0x12a1abd68>"
      ]
     },
     "metadata": {},
     "output_type": "display_data"
    }
   ],
   "source": [
    "accuracy = [svc_testA_accur, svc_testB_accur, svc_testC_accur, svc_testD_accur, svc_testE_accur, svc_testF_accur, svc_testG_accur, svc_testH_accur, svc_accur]\n",
    "objects = ('A', 'B', 'C', 'D', 'E', 'F', 'G', 'H', 'All')\n",
    "y_pos = np.arange(len(objects))\n",
    "plt.bar(y_pos, accuracy, align='center', alpha=0.5, color=['b', 'b', 'b', 'r', 'b', 'b', 'b', 'b', \"g\"])\n",
    "plt.ylim(0.5, 1)\n",
    "plt.xticks(y_pos, objects)\n",
    "plt.ylabel('Accuracy score') \n",
    "plt.show()"
   ]
  },
  {
   "cell_type": "code",
   "execution_count": 496,
   "metadata": {
    "collapsed": false
   },
   "outputs": [
    {
     "data": {
      "image/png": "[encoded data removed]",
      "text/plain": [
       "<matplotlib.figure.Figure at 0x12ac3b748>"
      ]
     },
     "metadata": {},
     "output_type": "display_data"
    }
   ],
   "source": [
    "accuracy = [svc_testA_accur, svc_testB_accur, svc_testC_accur, svc_testD_accur, svc_testE_accur, svc_testF_accur, svc_testG_accur, svc_testH_accur]\n",
    "objects = ('A', 'B', 'C', 'D', 'E', 'F', 'G', 'H')\n",
    "y_pos = np.arange(len(objects))\n",
    "plt.bar(y_pos, accuracy, align='center', alpha=0.5, color=['b', 'b', 'b', 'r', 'b', 'b', 'r', 'b'])\n",
    "plt.ylim(0.5, 1)\n",
    "plt.xticks(y_pos, objects)\n",
    "plt.ylabel('Accuracy score') \n",
    "plt.show()"
   ]
  },
  {
   "cell_type": "code",
   "execution_count": 489,
   "metadata": {
    "collapsed": false
   },
   "outputs": [
    {
     "data": {
      "text/plain": [
       "0.86538461538461542"
      ]
     },
     "execution_count": 489,
     "metadata": {},
     "output_type": "execute_result"
    }
   ],
   "source": [
    "#Random forest with test F results\n",
    "rf_testF = RandomForestClassifier(n_estimators=15, random_state=0)\n",
    "rf_testF.fit(X_train_testF, Y_train)\n",
    "rf_testF.score(X_train_testF, Y_train)\n",
    "Y_pred_rf_testF = rf_testF.predict(X_test_testF)\n",
    "rf_testF.score(X_train_testF, Y_train)\n",
    "rf_testF_accur = accuracy_score(Y_test, Y_pred_rf_testF)\n",
    "rf_testF_accur"
   ]
  },
  {
   "cell_type": "code",
   "execution_count": 1063,
   "metadata": {
    "collapsed": false
   },
   "outputs": [],
   "source": [
    "alldata = pd.read_table(\"alldataprep2.txt\", delim_whitespace=True)"
   ]
  },
  {
   "cell_type": "code",
   "execution_count": 1064,
   "metadata": {
    "collapsed": false
   },
   "outputs": [
    {
     "data": {
      "text/html": [
       "<div>\n",
       "<table border=\"1\" class=\"dataframe\">\n",
       "  <thead>\n",
       "    <tr style=\"text-align: right;\">\n",
       "      <th></th>\n",
       "      <th>SampleNumber</th>\n",
       "      <th>1.mean.Tube1</th>\n",
       "      <th>1.sd.Tube1</th>\n",
       "      <th>1.median.Tube1</th>\n",
       "      <th>1.skew.Tube1</th>\n",
       "      <th>1.kurtosis.Tube1</th>\n",
       "      <th>2.mean.Tube1</th>\n",
       "      <th>2.sd.Tube1</th>\n",
       "      <th>2.median.Tube1</th>\n",
       "      <th>2.skew.Tube1</th>\n",
       "      <th>...</th>\n",
       "      <th>6.sd.Tube8</th>\n",
       "      <th>6.median.Tube8</th>\n",
       "      <th>6.skew.Tube8</th>\n",
       "      <th>6.kurtosis.Tube8</th>\n",
       "      <th>7.mean.Tube8</th>\n",
       "      <th>7.sd.Tube8</th>\n",
       "      <th>7.median.Tube8</th>\n",
       "      <th>7.skew.Tube8</th>\n",
       "      <th>7.kurtosis.Tube8</th>\n",
       "      <th>Label</th>\n",
       "    </tr>\n",
       "  </thead>\n",
       "  <tbody>\n",
       "    <tr>\n",
       "      <th>1</th>\n",
       "      <td>1</td>\n",
       "      <td>0.684433</td>\n",
       "      <td>0.228759</td>\n",
       "      <td>0.731183</td>\n",
       "      <td>-0.316618</td>\n",
       "      <td>-1.051457</td>\n",
       "      <td>0.016795</td>\n",
       "      <td>0.015372</td>\n",
       "      <td>0.017525</td>\n",
       "      <td>7.254818</td>\n",
       "      <td>...</td>\n",
       "      <td>0.008169</td>\n",
       "      <td>0.000065</td>\n",
       "      <td>66.973703</td>\n",
       "      <td>6065.577568</td>\n",
       "      <td>0.000131</td>\n",
       "      <td>0.001333</td>\n",
       "      <td>0.000050</td>\n",
       "      <td>65.976405</td>\n",
       "      <td>5921.640291</td>\n",
       "      <td>normal</td>\n",
       "    </tr>\n",
       "    <tr>\n",
       "      <th>9</th>\n",
       "      <td>2</td>\n",
       "      <td>0.568986</td>\n",
       "      <td>0.251365</td>\n",
       "      <td>0.619746</td>\n",
       "      <td>-0.017270</td>\n",
       "      <td>-1.403105</td>\n",
       "      <td>0.012331</td>\n",
       "      <td>0.008796</td>\n",
       "      <td>0.013117</td>\n",
       "      <td>3.057543</td>\n",
       "      <td>...</td>\n",
       "      <td>0.005437</td>\n",
       "      <td>0.000091</td>\n",
       "      <td>122.702870</td>\n",
       "      <td>18561.321245</td>\n",
       "      <td>0.000113</td>\n",
       "      <td>0.001792</td>\n",
       "      <td>0.000061</td>\n",
       "      <td>156.042670</td>\n",
       "      <td>25985.223644</td>\n",
       "      <td>normal</td>\n",
       "    </tr>\n",
       "    <tr>\n",
       "      <th>17</th>\n",
       "      <td>3</td>\n",
       "      <td>0.603779</td>\n",
       "      <td>0.199342</td>\n",
       "      <td>0.627566</td>\n",
       "      <td>-0.279158</td>\n",
       "      <td>-0.420299</td>\n",
       "      <td>0.018042</td>\n",
       "      <td>0.022776</td>\n",
       "      <td>0.017685</td>\n",
       "      <td>31.494076</td>\n",
       "      <td>...</td>\n",
       "      <td>0.008838</td>\n",
       "      <td>0.000119</td>\n",
       "      <td>39.205049</td>\n",
       "      <td>3491.098043</td>\n",
       "      <td>0.000254</td>\n",
       "      <td>0.001276</td>\n",
       "      <td>0.000070</td>\n",
       "      <td>45.931576</td>\n",
       "      <td>4475.234542</td>\n",
       "      <td>normal</td>\n",
       "    </tr>\n",
       "    <tr>\n",
       "      <th>25</th>\n",
       "      <td>4</td>\n",
       "      <td>0.608508</td>\n",
       "      <td>0.222787</td>\n",
       "      <td>0.657869</td>\n",
       "      <td>-0.411906</td>\n",
       "      <td>-0.784437</td>\n",
       "      <td>0.018271</td>\n",
       "      <td>0.015740</td>\n",
       "      <td>0.018671</td>\n",
       "      <td>16.850874</td>\n",
       "      <td>...</td>\n",
       "      <td>0.013172</td>\n",
       "      <td>0.000081</td>\n",
       "      <td>45.271939</td>\n",
       "      <td>2662.372124</td>\n",
       "      <td>0.000215</td>\n",
       "      <td>0.002639</td>\n",
       "      <td>0.000068</td>\n",
       "      <td>50.453911</td>\n",
       "      <td>3172.847701</td>\n",
       "      <td>normal</td>\n",
       "    </tr>\n",
       "    <tr>\n",
       "      <th>33</th>\n",
       "      <td>5</td>\n",
       "      <td>0.692233</td>\n",
       "      <td>0.209628</td>\n",
       "      <td>0.701857</td>\n",
       "      <td>-0.133803</td>\n",
       "      <td>-1.049806</td>\n",
       "      <td>0.009618</td>\n",
       "      <td>0.008040</td>\n",
       "      <td>0.007745</td>\n",
       "      <td>4.444330</td>\n",
       "      <td>...</td>\n",
       "      <td>0.008160</td>\n",
       "      <td>0.000303</td>\n",
       "      <td>59.806390</td>\n",
       "      <td>4185.948525</td>\n",
       "      <td>0.000194</td>\n",
       "      <td>0.009318</td>\n",
       "      <td>0.000067</td>\n",
       "      <td>99.539370</td>\n",
       "      <td>9934.636757</td>\n",
       "      <td>aml</td>\n",
       "    </tr>\n",
       "  </tbody>\n",
       "</table>\n",
       "<p>5 rows × 282 columns</p>\n",
       "</div>"
      ],
      "text/plain": [
       "    SampleNumber  1.mean.Tube1  1.sd.Tube1  1.median.Tube1  1.skew.Tube1  \\\n",
       "1              1      0.684433    0.228759        0.731183     -0.316618   \n",
       "9              2      0.568986    0.251365        0.619746     -0.017270   \n",
       "17             3      0.603779    0.199342        0.627566     -0.279158   \n",
       "25             4      0.608508    0.222787        0.657869     -0.411906   \n",
       "33             5      0.692233    0.209628        0.701857     -0.133803   \n",
       "\n",
       "    1.kurtosis.Tube1  2.mean.Tube1  2.sd.Tube1  2.median.Tube1  2.skew.Tube1  \\\n",
       "1          -1.051457      0.016795    0.015372        0.017525      7.254818   \n",
       "9          -1.403105      0.012331    0.008796        0.013117      3.057543   \n",
       "17         -0.420299      0.018042    0.022776        0.017685     31.494076   \n",
       "25         -0.784437      0.018271    0.015740        0.018671     16.850874   \n",
       "33         -1.049806      0.009618    0.008040        0.007745      4.444330   \n",
       "\n",
       "     ...    6.sd.Tube8  6.median.Tube8  6.skew.Tube8  6.kurtosis.Tube8  \\\n",
       "1    ...      0.008169        0.000065     66.973703       6065.577568   \n",
       "9    ...      0.005437        0.000091    122.702870      18561.321245   \n",
       "17   ...      0.008838        0.000119     39.205049       3491.098043   \n",
       "25   ...      0.013172        0.000081     45.271939       2662.372124   \n",
       "33   ...      0.008160        0.000303     59.806390       4185.948525   \n",
       "\n",
       "    7.mean.Tube8  7.sd.Tube8  7.median.Tube8  7.skew.Tube8  7.kurtosis.Tube8  \\\n",
       "1       0.000131    0.001333        0.000050     65.976405       5921.640291   \n",
       "9       0.000113    0.001792        0.000061    156.042670      25985.223644   \n",
       "17      0.000254    0.001276        0.000070     45.931576       4475.234542   \n",
       "25      0.000215    0.002639        0.000068     50.453911       3172.847701   \n",
       "33      0.000194    0.009318        0.000067     99.539370       9934.636757   \n",
       "\n",
       "     Label  \n",
       "1   normal  \n",
       "9   normal  \n",
       "17  normal  \n",
       "25  normal  \n",
       "33     aml  \n",
       "\n",
       "[5 rows x 282 columns]"
      ]
     },
     "execution_count": 1064,
     "metadata": {},
     "output_type": "execute_result"
    }
   ],
   "source": [
    "alldata.head()"
   ]
  },
  {
   "cell_type": "code",
   "execution_count": 1065,
   "metadata": {
    "collapsed": false
   },
   "outputs": [],
   "source": [
    "alldata = alldata.drop(\"SampleNumber\", axis=1)\n",
    "X = alldata.drop(\"Label\", axis=1)\n",
    "Y = alldata[\"Label\"]\n",
    "Y = pd.get_dummies(Y).aml"
   ]
  },
  {
   "cell_type": "code",
   "execution_count": 1051,
   "metadata": {
    "collapsed": true
   },
   "outputs": [],
   "source": [
    "# Split the dataset in two equal parts\n",
    "X_train, X_test, Y_train, Y_test = train_test_split(\n",
    "    X, Y, test_size=0.6, random_state=1)"
   ]
  },
  {
   "cell_type": "code",
   "execution_count": 1052,
   "metadata": {
    "collapsed": false
   },
   "outputs": [
    {
     "data": {
      "text/plain": [
       "0.95833333333333337"
      ]
     },
     "execution_count": 1052,
     "metadata": {},
     "output_type": "execute_result"
    }
   ],
   "source": [
    "# Random Forests\n",
    "random_forest = RandomForestClassifier(n_estimators=15, random_state=0)\n",
    "#random_forest = RandomForestClassifier(n_estimators=100, criterion='entropy', max_depth=10, max_features='sqrt', min_samples_split=5)\n",
    "random_forest.fit(X_train, Y_train)\n",
    "Y_pred_rf = random_forest.predict(X_test)\n",
    "random_forest.score(X_train, Y_train)\n",
    "rf_accur = accuracy_score(Y_test, Y_pred_rf)\n",
    "rf_accur"
   ]
  },
  {
   "cell_type": "code",
   "execution_count": 1053,
   "metadata": {
    "collapsed": false
   },
   "outputs": [
    {
     "data": {
      "text/plain": [
       "0.95833333333333337"
      ]
     },
     "execution_count": 1053,
     "metadata": {},
     "output_type": "execute_result"
    }
   ],
   "source": [
    "# Random Forests with weight using all data\n",
    "random_forest = RandomForestClassifier(n_estimators=100, random_state=0, class_weight=\"balanced\")\n",
    "#random_forest = RandomForestClassifier(n_estimators=100, random_state=0)\n",
    "random_forest.fit(X_train, Y_train)\n",
    "Y_pred_rf = random_forest.predict(X_test)\n",
    "random_forest.score(X_train, Y_train)\n",
    "rf_accur = accuracy_score(Y_test, Y_pred_rf)\n",
    "rf_accur"
   ]
  },
  {
   "cell_type": "code",
   "execution_count": 1054,
   "metadata": {
    "collapsed": false
   },
   "outputs": [
    {
     "data": {
      "text/plain": [
       "array([[191,   1],\n",
       "       [  8,  16]])"
      ]
     },
     "execution_count": 1054,
     "metadata": {},
     "output_type": "execute_result"
    }
   ],
   "source": [
    "confusion_matrix(Y_test, Y_pred_rf)"
   ]
  },
  {
   "cell_type": "markdown",
   "metadata": {},
   "source": [
    "from sklearn.model_selection import cross_val_score\n",
    "random_forest = RandomForestClassifier(n_estimators=15, random_state=0, class_weight=\"balanced\")\n",
    "scores = cross_val_score(random_forest, X_train, Y_train, cv=5)\n",
    "scores "
   ]
  },
  {
   "cell_type": "code",
   "execution_count": 1059,
   "metadata": {
    "collapsed": false
   },
   "outputs": [
    {
     "data": {
      "text/plain": [
       "array([ 0.95890411,  0.94444444,  0.97222222,  1.        ,  0.97183099])"
      ]
     },
     "execution_count": 1059,
     "metadata": {},
     "output_type": "execute_result"
    }
   ],
   "source": [
    "from sklearn.cross_validation import cross_val_score\n",
    "random_forest = RandomForestClassifier(n_estimators=15, random_state=0, class_weight=\"balanced\")\n",
    "scores = cross_val_score(random_forest, X, Y, cv=5)\n",
    "scores "
   ]
  },
  {
   "cell_type": "code",
   "execution_count": 1060,
   "metadata": {
    "collapsed": false
   },
   "outputs": [
    {
     "name": "stdout",
     "output_type": "stream",
     "text": [
      "0.969480352434\n"
     ]
    }
   ],
   "source": [
    "# use average accuracy as an estimate of out-of-sample accuracy\n",
    "print(scores.mean())"
   ]
  }
 ],
 "metadata": {
  "anaconda-cloud": {},
  "kernelspec": {
   "display_name": "Python [Root]",
   "language": "python",
   "name": "Python [Root]"
  },
  "language_info": {
   "codemirror_mode": {
    "name": "ipython",
    "version": 3
   },
   "file_extension": ".py",
   "mimetype": "text/x-python",
   "name": "python",
   "nbconvert_exporter": "python",
   "pygments_lexer": "ipython3",
   "version": "3.5.3"
  }
 },
 "nbformat": 4,
 "nbformat_minor": 0
}

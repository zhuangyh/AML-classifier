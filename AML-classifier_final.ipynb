{
 "cells": [
  {
   "cell_type": "markdown",
   "metadata": {
    "collapsed": false
   },
   "source": [
    "## Automated diagnosis of Acute Myeloid Leukemia using flow cytometry data\n",
    "\n",
    "* Yonghua Zhuang\n",
    "* Insight Health Data Science Fellow\n",
    "* Boston, 06-30-2017"
   ]
  },
  {
   "cell_type": "markdown",
   "metadata": {},
   "source": [
    "This is a project I developed when I was an insight health Data Science Fellow at Boston. I developed an automated acute Myeloid Leukemia (AML) classifier (www.aml-classifier.site), a machine learning-powered system that classifies whether a person has AML or not using flow cytometry data. This classifier has solved the issues of labor-intensive vision analysis and low reproducibility for high dimension flow cytometry data."
   ]
  },
  {
   "cell_type": "markdown",
   "metadata": {},
   "source": [
    "The raw data was preprocessed with R. 280 features have been engineered. \n",
    "Data has been subsampled to balance the control and case groups."
   ]
  },
  {
   "cell_type": "code",
   "execution_count": null,
   "metadata": {
    "collapsed": false
   },
   "outputs": [],
   "source": [
    "import pandas as pd\n",
    "import numpy as np\n",
    "from sklearn.cross_validation import train_test_split\n",
    "from sklearn.ensemble import RandomForestClassifier\n",
    "from sklearn.linear_model import LogisticRegression\n",
    "from sklearn.tree import export_graphviz\n",
    "from sklearn.svm import SVC, LinearSVC\n",
    "from sklearn import metrics\n",
    "from sklearn.metrics import accuracy_score\n",
    "from sklearn import preprocessing\n",
    "from sklearn.metrics import confusion_matrix\n",
    "import matplotlib.pyplot as plt\n",
    "from ggplot import *\n",
    "%pylab inline"
   ]
  },
  {
   "cell_type": "code",
   "execution_count": 75,
   "metadata": {
    "collapsed": false
   },
   "outputs": [],
   "source": [
    "# load prepared data with R\n",
    "data  = pd.read_table(\"down_data2.txt\", delim_whitespace=True)\n",
    "data1 = pd.read_table(\"down_data1.txt\", delim_whitespace=True)\n",
    "data2 = pd.read_table(\"down_data2.txt\", delim_whitespace=True)\n",
    "data3 = pd.read_table(\"down_data3.txt\", delim_whitespace=True)\n",
    "data4 = pd.read_table(\"down_data4.txt\", delim_whitespace=True)\n",
    "data5 = pd.read_table(\"down_data5.txt\", delim_whitespace=True)"
   ]
  },
  {
   "cell_type": "code",
   "execution_count": 76,
   "metadata": {
    "collapsed": false
   },
   "outputs": [],
   "source": [
    "data = data.drop(\"SampleNumber\", axis=1)\n",
    "X = data.drop(\"Class\", axis=1)\n",
    "Y = data[\"Class\"]\n",
    "Y = pd.get_dummies(Y).aml"
   ]
  },
  {
   "cell_type": "code",
   "execution_count": 78,
   "metadata": {
    "collapsed": false
   },
   "outputs": [],
   "source": [
    "# Split the dataset in training and testing\n",
    "X_train, X_test, Y_train, Y_test = train_test_split(\n",
    "    X, Y, test_size=0.6, random_state=0)"
   ]
  },
  {
   "cell_type": "code",
   "execution_count": 79,
   "metadata": {
    "collapsed": false
   },
   "outputs": [
    {
     "data": {
      "text/plain": [
       "0.61538461538461542"
      ]
     },
     "execution_count": 79,
     "metadata": {},
     "output_type": "execute_result"
    }
   ],
   "source": [
    "# Logistic Regression\n",
    "logreg = LogisticRegression()\n",
    "logreg.fit(X_train, Y_train)\n",
    "Y_pred_log = logreg.predict(X_test)\n",
    "logreg_accur=accuracy_score(Y_test, Y_pred_log)\n",
    "logreg.score(X_train, Y_train)\n",
    "logreg_accur"
   ]
  },
  {
   "cell_type": "code",
   "execution_count": 80,
   "metadata": {
    "collapsed": false
   },
   "outputs": [
    {
     "data": {
      "text/plain": [
       "0.90384615384615385"
      ]
     },
     "execution_count": 80,
     "metadata": {},
     "output_type": "execute_result"
    }
   ],
   "source": [
    "## Support Vector Machines\n",
    "## Scaling data for SVM\n",
    "X_train_scaled = preprocessing.scale(X_train)\n",
    "X_test_scaled = preprocessing.scale(X_test)\n",
    "\n",
    "svc = SVC(probability=True)\n",
    "svc.fit(X_train_scaled, Y_train)\n",
    "Y_pred_svc = svc.predict(X_test_scaled)\n",
    "svc.score(X_train_scaled, Y_train)\n",
    "svc_accur = accuracy_score(Y_test, Y_pred_svc)\n",
    "svc_accur"
   ]
  },
  {
   "cell_type": "code",
   "execution_count": 81,
   "metadata": {
    "collapsed": false
   },
   "outputs": [
    {
     "data": {
      "text/plain": [
       "0.92307692307692313"
      ]
     },
     "execution_count": 81,
     "metadata": {},
     "output_type": "execute_result"
    }
   ],
   "source": [
    "# Random Forests\n",
    "random_forest = RandomForestClassifier(n_estimators=15, random_state=0)\n",
    "random_forest.fit(X_train, Y_train)\n",
    "Y_pred_rf = random_forest.predict(X_test)\n",
    "random_forest.score(X_train, Y_train)\n",
    "rf_accur = accuracy_score(Y_test, Y_pred_rf)\n",
    "rf_accur"
   ]
  },
  {
   "cell_type": "markdown",
   "metadata": {},
   "source": [
    "### Findings:\n",
    "* According to balanced accurcy, SVM and random forest perform much better logistic regression. \n",
    "* Random forest performs slightly better than SVM.\n",
    "* Although SVM performs comparably well, the random forest method was chosen as final model because it is easier to interespret and doesn't require data scalling step. In addition, the random forest could prevent overfitting naturally. Overfiting could be a potential issue when the number of features is larger than the number of observations. "
   ]
  },
  {
   "cell_type": "code",
   "execution_count": 83,
   "metadata": {
    "collapsed": false
   },
   "outputs": [
    {
     "data": {
      "text/plain": [
       "<matplotlib.legend.Legend at 0x119dbbc50>"
      ]
     },
     "execution_count": 83,
     "metadata": {},
     "output_type": "execute_result"
    },
    {
     "data": {
      "image/png": "[encoded data removed]",
      "text/plain": [
       "<matplotlib.figure.Figure at 0x11a10ad68>"
      ]
     },
     "metadata": {},
     "output_type": "display_data"
    }
   ],
   "source": [
    "plt.figure(0).clf()\n",
    "preds = logreg.predict_proba(X_test)[:,1]\n",
    "fpr, tpr, _ = metrics.roc_curve(Y_test, preds)\n",
    "auc = metrics.roc_auc_score(Y_test, preds)\n",
    "df_lr = pd.DataFrame(dict(fpr=fpr, tpr=tpr))\n",
    "plt.plot(fpr,tpr,label=\"Logistic Regression, auc= %0.3f\" %(auc))\n",
    "\n",
    "preds = random_forest.predict_proba(X_test)[:,1]\n",
    "fpr, tpr, _ = metrics.roc_curve(Y_test, preds)\n",
    "auc = metrics.roc_auc_score(Y_test, preds)\n",
    "df_rf = pd.DataFrame(dict(fpr=fpr, tpr=tpr))\n",
    "plt.plot(fpr,tpr,label=\"Random Forest, auc= %0.3f\" %(auc))\n",
    "\n",
    "\n",
    "preds = svc.predict_proba(X_test_scaled)[:, 1]\n",
    "fpr, tpr, thresholds = metrics.roc_curve(Y_test, preds)\n",
    "auc = metrics.roc_auc_score(Y_test, preds)\n",
    "df_svc = pd.DataFrame(dict(fpr=fpr, tpr=tpr))\n",
    "plt.plot(fpr,tpr,label=\"SVM, auc= %0.3f\" %(auc))\n",
    "plt.ylabel('True Positive Rate')\n",
    "plt.xlabel('False Positive Rate')\n",
    "plt.legend(loc=0)"
   ]
  },
  {
   "cell_type": "markdown",
   "metadata": {},
   "source": [
    "### Discussion\n",
    "* ROC cureves indicated that SVM and random forest perform better than logistic regression. \n",
    "* Comments: ROC curves are not smooth because of small sample size. "
   ]
  },
  {
   "cell_type": "code",
   "execution_count": 84,
   "metadata": {
    "collapsed": false
   },
   "outputs": [
    {
     "data": {
      "image/png": "[encoded data removed]",
      "text/plain": [
       "<matplotlib.figure.Figure at 0x119f94e80>"
      ]
     },
     "metadata": {},
     "output_type": "display_data"
    }
   ],
   "source": [
    "accuracy =  [logreg_accur, rf_accur, svc_accur]\n",
    "objects = ('Logistic Regression', 'SVM', 'Random Forest' )\n",
    "y_pos = np.arange(len(objects))\n",
    "bar_width = 0.35\n",
    "plt.bar(y_pos, accuracy, align='center', alpha=0.5, color=['b', 'g', 'r'] )\n",
    "plt.xticks(y_pos, objects)\n",
    "plt.ylabel('Accuracy score') \n",
    "plt.show()"
   ]
  },
  {
   "cell_type": "code",
   "execution_count": 85,
   "metadata": {
    "collapsed": false
   },
   "outputs": [],
   "source": [
    "# accuracy function to collect accracy score from LR, SVM and RF\n",
    "def accurcy(data):\n",
    "    #prepared data for analysis\n",
    "    data = data.drop(\"SampleNumber\", axis=1)\n",
    "    X = data.drop(\"Class\", axis=1)\n",
    "    Y = data[\"Class\"]\n",
    "    Y = pd.get_dummies(Y).aml\n",
    "    # Split the dataset in two equal parts\n",
    "    X_train, X_test, Y_train, Y_test = train_test_split(\n",
    "    X, Y, test_size=0.6, random_state=0)\n",
    "    \n",
    "    #Logestic regression\n",
    "    logreg = LogisticRegression()\n",
    "    logreg.fit(X_train, Y_train)\n",
    "    Y_pred_log = logreg.predict(X_test)\n",
    "    logreg_accur=accuracy_score(Y_test, Y_pred_log)\n",
    "\n",
    "    ##Support Vector Machines\n",
    "    ## Scaling data for SVM\n",
    "    X_train_scaled = preprocessing.scale(X_train)\n",
    "    X_test_scaled = preprocessing.scale(X_test)\n",
    "    svc = SVC(probability=True)\n",
    "    svc.fit(X_train_scaled, Y_train)\n",
    "    Y_pred_svc = svc.predict(X_test_scaled)\n",
    "    svc_accur = accuracy_score(Y_test, Y_pred_svc)\n",
    "    \n",
    "    # Random Forests\n",
    "    random_forest = RandomForestClassifier(n_estimators=15, random_state=0)\n",
    "    #random_forest = RandomForestClassifier(n_estimators=100, criterion='entropy', max_depth=10, max_features='sqrt', min_samples_split=5)\n",
    "    random_forest.fit(X_train, Y_train)\n",
    "    Y_pred_rf = random_forest.predict(X_test)\n",
    "    random_forest.score(X_train, Y_train)\n",
    "    rf_accur = accuracy_score(Y_test, Y_pred_rf)\n",
    "    return [(logreg_accur, svc_accur, rf_accur)]"
   ]
  },
  {
   "cell_type": "markdown",
   "metadata": {},
   "source": [
    "### To ensure the developed model could be generlized, subsampling has been repeated for 5 times.\n"
   ]
  },
  {
   "cell_type": "code",
   "execution_count": 86,
   "metadata": {
    "collapsed": false
   },
   "outputs": [],
   "source": [
    "# method comparison with 5 random subsamplings \n",
    "methodcom = accurcy(data1) + accurcy(data2) + accurcy(data3) + accurcy(data4) + accurcy(data5)\n",
    "methodcom = pd.DataFrame(methodcom,  columns =  [\"Logistic Regression\", \"SVM\", \"Random Forest\"])"
   ]
  },
  {
   "cell_type": "code",
   "execution_count": 137,
   "metadata": {
    "collapsed": false
   },
   "outputs": [
    {
     "data": {
      "image/png": "[encoded data removed]",
      "text/plain": [
       "<matplotlib.figure.Figure at 0x11e2bfd68>"
      ]
     },
     "metadata": {},
     "output_type": "display_data"
    }
   ],
   "source": [
    "means = methodcom.mean()*100\n",
    "errors = methodcom.std()*100\n",
    "ax = (means.plot(yerr=errors,  kind='bar', color=['b', 'g', 'r'], rot=75, \n",
    "                error_kw=dict(ecolor='black', lw=2, capsize=10, capthick=2)))\n",
    "ax.set_ylabel(\"Accurcy score (%)\", fontsize=16)\n",
    "ax.set_ylim(50,105)\n",
    "#plt.axhline(y=91, color='g', linestyle='--')\n",
    "for item in ([ax.title, ax.xaxis.label, ax.yaxis.label] +\n",
    "             ax.get_xticklabels() + ax.get_yticklabels()):\n",
    "    item.set_fontsize(16)\n",
    "\n",
    "rects = ax.patches\n",
    "# Now make some labels\n",
    "labels = round(means,1)\n",
    "for rect, label, error in zip(rects, labels, errors):\n",
    "    height = rect.get_height()\n",
    "    ax.text(rect.get_x() + rect.get_width()/2, height + 5, label, ha='center', va='bottom')"
   ]
  },
  {
   "cell_type": "markdown",
   "metadata": {},
   "source": [
    "### Comments\n",
    "* Error bar indicates the standard deviation of accurcy mean from 5 times randomization. "
   ]
  },
  {
   "cell_type": "markdown",
   "metadata": {},
   "source": [
    "### List important features"
   ]
  },
  {
   "cell_type": "code",
   "execution_count": null,
   "metadata": {
    "collapsed": true
   },
   "outputs": [],
   "source": [
    "importances = random_forest.feature_importances_\n",
    "indices = np.argsort(importances)[::-1]\n",
    "feature_labels = X_train.columns"
   ]
  },
  {
   "cell_type": "code",
   "execution_count": 118,
   "metadata": {
    "collapsed": false
   },
   "outputs": [
    {
     "data": {
      "text/plain": [
       "Index(['X6.sd.Tube4', 'X6.median.Tube4', 'X2.mean.Tube8', 'X5.skew.Tube6',\n",
       "       'X7.median.Tube7'],\n",
       "      dtype='object')"
      ]
     },
     "execution_count": 118,
     "metadata": {},
     "output_type": "execute_result"
    }
   ],
   "source": [
    "# Tp 5 important features\n",
    "xrange=range(5)\n",
    "topimportances = importances[indices][:5]\n",
    "topfeatures = feature_labels[indices][:5]  \n",
    "topfeatures"
   ]
  },
  {
   "cell_type": "code",
   "execution_count": 119,
   "metadata": {
    "collapsed": true
   },
   "outputs": [],
   "source": [
    "topfeatures = ['CD16.SD', 'CD16.median', 'SSC.mean', 'CD45.skew',\n",
    "       'CD10.median']"
   ]
  },
  {
   "cell_type": "code",
   "execution_count": 120,
   "metadata": {
    "collapsed": false
   },
   "outputs": [
    {
     "data": {
      "image/png": "[encoded data removed]",
      "text/plain": [
       "<matplotlib.figure.Figure at 0x11a344198>"
      ]
     },
     "metadata": {},
     "output_type": "display_data"
    }
   ],
   "source": [
    "# Top 5 important features\n",
    "matplotlib.rcParams.update({'font.size': 16})\n",
    "plt.figure()\n",
    "plt.title(\"Feature importances\")\n",
    "plt.bar(xrange, topimportances,\n",
    "        color=['r', 'r', 'b', 'b', 'b'], align=\"center\")\n",
    "plt.xticks(xrange, topfeatures, rotation=60)\n",
    "plt.ylabel('Importance') \n",
    "plt.show()"
   ]
  },
  {
   "cell_type": "markdown",
   "metadata": {},
   "source": [
    "### The top 2 important features are related with CD16. CD16 biomarker information was detected in test D.  The next question I asked is whether I could use less biomarker information to classify AML. "
   ]
  },
  {
   "cell_type": "code",
   "execution_count": 121,
   "metadata": {
    "collapsed": false
   },
   "outputs": [],
   "source": [
    "X_train_testD = X_train_scaled[ :, 105:140]\n",
    "X_train_CD16 = X_train_scaled[ :, 131:135]\n",
    "X_train_CD34 = X_train_scaled[ :, 200:205]"
   ]
  },
  {
   "cell_type": "code",
   "execution_count": 122,
   "metadata": {
    "collapsed": false
   },
   "outputs": [],
   "source": [
    "X_test_testD = X_test_scaled[ :, 105:140]\n",
    "X_test_CD16 = X_test_scaled[ :, 131:135]\n",
    "X_test_CD34 = X_test_scaled[ :, 200:205]"
   ]
  },
  {
   "cell_type": "code",
   "execution_count": 123,
   "metadata": {
    "collapsed": false
   },
   "outputs": [
    {
     "data": {
      "text/plain": [
       "0.94230769230769229"
      ]
     },
     "execution_count": 123,
     "metadata": {},
     "output_type": "execute_result"
    }
   ],
   "source": [
    "# Random Forests with test D\n",
    "random_forest_testD = RandomForestClassifier(n_estimators=15, random_state=0)\n",
    "random_forest.fit(X_train_testD, Y_train)\n",
    "Y_pred_rf_testD = random_forest.predict(X_test_testD)\n",
    "random_forest.score(X_train_testD, Y_train)\n",
    "rf_accur_testD = accuracy_score(Y_test, Y_pred_rf_testD)\n",
    "rf_accur_testD"
   ]
  },
  {
   "cell_type": "code",
   "execution_count": 124,
   "metadata": {
    "collapsed": false
   },
   "outputs": [
    {
     "data": {
      "text/plain": [
       "0.80769230769230771"
      ]
     },
     "execution_count": 124,
     "metadata": {},
     "output_type": "execute_result"
    }
   ],
   "source": [
    "# Random Forests with CD16 features\n",
    "random_forest_CD16 = RandomForestClassifier(n_estimators=15, random_state=0)\n",
    "random_forest.fit(X_train_CD16, Y_train)\n",
    "Y_pred_rf_CD16 = random_forest.predict(X_test_CD16)\n",
    "random_forest.score(X_train_CD16, Y_train)\n",
    "rf_accur_CD16 = accuracy_score(Y_test, Y_pred_rf_CD16)\n",
    "rf_accur_CD16"
   ]
  },
  {
   "cell_type": "code",
   "execution_count": 125,
   "metadata": {
    "collapsed": false
   },
   "outputs": [
    {
     "data": {
      "text/plain": [
       "0.82692307692307687"
      ]
     },
     "execution_count": 125,
     "metadata": {},
     "output_type": "execute_result"
    }
   ],
   "source": [
    "# Random Forests with CD34 features\n",
    "random_forest_CD34 = RandomForestClassifier(n_estimators=15, random_state=0)\n",
    "random_forest.fit(X_train_CD34, Y_train)\n",
    "Y_pred_rf_CD34 = random_forest.predict(X_test_CD34)\n",
    "random_forest.score(X_train_CD34, Y_train)\n",
    "rf_accur_CD34 = accuracy_score(Y_test, Y_pred_rf_CD34)\n",
    "rf_accur_CD34"
   ]
  },
  {
   "cell_type": "code",
   "execution_count": 126,
   "metadata": {
    "collapsed": false
   },
   "outputs": [
    {
     "data": {
      "text/plain": [
       "array([[23,  2],\n",
       "       [ 1, 26]])"
      ]
     },
     "execution_count": 126,
     "metadata": {},
     "output_type": "execute_result"
    }
   ],
   "source": [
    "confusion_matrix(Y_test, Y_pred_rf_testD)"
   ]
  },
  {
   "cell_type": "markdown",
   "metadata": {},
   "source": [
    "## Weighted Random forest \n",
    "\n",
    "Besides using subsampling to balance dataset, another way is weighted random forest model. "
   ]
  },
  {
   "cell_type": "code",
   "execution_count": 128,
   "metadata": {
    "collapsed": false
   },
   "outputs": [],
   "source": [
    "alldata = pd.read_table(\"alldataprep2.txt\", delim_whitespace=True)"
   ]
  },
  {
   "cell_type": "code",
   "execution_count": 130,
   "metadata": {
    "collapsed": false
   },
   "outputs": [],
   "source": [
    "alldata = alldata.drop(\"SampleNumber\", axis=1)\n",
    "X = alldata.drop(\"Label\", axis=1)\n",
    "Y = alldata[\"Label\"]\n",
    "Y = pd.get_dummies(Y).aml"
   ]
  },
  {
   "cell_type": "code",
   "execution_count": 152,
   "metadata": {
    "collapsed": true
   },
   "outputs": [],
   "source": [
    "# Split the dataset in two equal parts\n",
    "X_train, X_test, Y_train, Y_test = train_test_split(\n",
    "    X, Y, test_size=0.6, random_state=100)"
   ]
  },
  {
   "cell_type": "code",
   "execution_count": 153,
   "metadata": {
    "collapsed": false
   },
   "outputs": [
    {
     "data": {
      "text/plain": [
       "0.97685185185185186"
      ]
     },
     "execution_count": 153,
     "metadata": {},
     "output_type": "execute_result"
    }
   ],
   "source": [
    "# Random Forests\n",
    "random_forest = RandomForestClassifier(n_estimators=15, random_state=0)\n",
    "random_forest.fit(X_train, Y_train)\n",
    "Y_pred_rf = random_forest.predict(X_test)\n",
    "random_forest.score(X_train, Y_train)\n",
    "rf_accur = accuracy_score(Y_test, Y_pred_rf)\n",
    "rf_accur"
   ]
  },
  {
   "cell_type": "code",
   "execution_count": 154,
   "metadata": {
    "collapsed": false
   },
   "outputs": [
    {
     "data": {
      "text/plain": [
       "0.97685185185185186"
      ]
     },
     "execution_count": 154,
     "metadata": {},
     "output_type": "execute_result"
    }
   ],
   "source": [
    "# Random Forests with weight using all data\n",
    "random_forest = RandomForestClassifier(n_estimators=100, random_state=10, class_weight=\"balanced\")\n",
    "random_forest.fit(X_train, Y_train)\n",
    "Y_pred_rf = random_forest.predict(X_test)\n",
    "random_forest.score(X_train, Y_train)\n",
    "rf_accur = accuracy_score(Y_test, Y_pred_rf)\n",
    "rf_accur"
   ]
  },
  {
   "cell_type": "code",
   "execution_count": 155,
   "metadata": {
    "collapsed": false
   },
   "outputs": [
    {
     "data": {
      "text/plain": [
       "array([[191,   2],\n",
       "       [  3,  20]])"
      ]
     },
     "execution_count": 155,
     "metadata": {},
     "output_type": "execute_result"
    }
   ],
   "source": [
    "confusion_matrix(Y_test, Y_pred_rf)"
   ]
  },
  {
   "cell_type": "code",
   "execution_count": 156,
   "metadata": {
    "collapsed": false
   },
   "outputs": [
    {
     "data": {
      "text/html": [
       "<div>\n",
       "<table border=\"1\" class=\"dataframe\">\n",
       "  <thead>\n",
       "    <tr style=\"text-align: right;\">\n",
       "      <th>Predicted</th>\n",
       "      <th>0.0</th>\n",
       "      <th>1.0</th>\n",
       "      <th>All</th>\n",
       "    </tr>\n",
       "    <tr>\n",
       "      <th>True</th>\n",
       "      <th></th>\n",
       "      <th></th>\n",
       "      <th></th>\n",
       "    </tr>\n",
       "  </thead>\n",
       "  <tbody>\n",
       "    <tr>\n",
       "      <th>0.0</th>\n",
       "      <td>191</td>\n",
       "      <td>2</td>\n",
       "      <td>193</td>\n",
       "    </tr>\n",
       "    <tr>\n",
       "      <th>1.0</th>\n",
       "      <td>3</td>\n",
       "      <td>20</td>\n",
       "      <td>23</td>\n",
       "    </tr>\n",
       "    <tr>\n",
       "      <th>All</th>\n",
       "      <td>194</td>\n",
       "      <td>22</td>\n",
       "      <td>216</td>\n",
       "    </tr>\n",
       "  </tbody>\n",
       "</table>\n",
       "</div>"
      ],
      "text/plain": [
       "Predicted  0.0  1.0  All\n",
       "True                    \n",
       "0.0        191    2  193\n",
       "1.0          3   20   23\n",
       "All        194   22  216"
      ]
     },
     "execution_count": 156,
     "metadata": {},
     "output_type": "execute_result"
    }
   ],
   "source": [
    "pd.crosstab(Y_test, Y_pred_rf, rownames=['True'], colnames=['Predicted'], margins=True)"
   ]
  },
  {
   "cell_type": "markdown",
   "metadata": {},
   "source": [
    "## Comments: \n",
    "The sensitivity and specificity are 90% and 98.4% for weighted random forest model. "
   ]
  },
  {
   "cell_type": "markdown",
   "metadata": {},
   "source": [
    "## Cross validation\n",
    "\n",
    "\"By default random forest picks up 2/3rd data for training and rest for testing for regression and almost 70% data for training and rest for testing during classification.By principle since it randomizes the variable selection during each tree split it's not prone to overfit unlike other models\"."
   ]
  },
  {
   "cell_type": "code",
   "execution_count": 157,
   "metadata": {
    "collapsed": false
   },
   "outputs": [
    {
     "data": {
      "text/plain": [
       "array([ 0.95890411,  0.94444444,  0.97222222,  1.        ,  0.97183099])"
      ]
     },
     "execution_count": 157,
     "metadata": {},
     "output_type": "execute_result"
    }
   ],
   "source": [
    "from sklearn.cross_validation import cross_val_score\n",
    "random_forest = RandomForestClassifier(n_estimators=15, random_state=0, class_weight=\"balanced\")\n",
    "scores = cross_val_score(random_forest, X, Y, cv=5)\n",
    "scores "
   ]
  },
  {
   "cell_type": "code",
   "execution_count": 158,
   "metadata": {
    "collapsed": false
   },
   "outputs": [
    {
     "name": "stdout",
     "output_type": "stream",
     "text": [
      "0.969480352434\n"
     ]
    }
   ],
   "source": [
    "# use average accuracy as an estimate of out-of-sample accuracy\n",
    "print(scores.mean())"
   ]
  }
 ],
 "metadata": {
  "anaconda-cloud": {},
  "kernelspec": {
   "display_name": "Python [Root]",
   "language": "python",
   "name": "Python [Root]"
  },
  "language_info": {
   "codemirror_mode": {
    "name": "ipython",
    "version": 3
   },
   "file_extension": ".py",
   "mimetype": "text/x-python",
   "name": "python",
   "nbconvert_exporter": "python",
   "pygments_lexer": "ipython3",
   "version": "3.5.3"
  }
 },
 "nbformat": 4,
 "nbformat_minor": 0
}
